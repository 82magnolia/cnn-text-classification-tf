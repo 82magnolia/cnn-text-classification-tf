{
 "cells": [
  {
   "cell_type": "code",
   "execution_count": 2,
   "metadata": {
    "collapsed": true
   },
   "outputs": [],
   "source": [
    "import nltk\n",
    "import numpy as np\n",
    "import pandas as pd\n",
    "import re\n",
    "import string\n",
    "from nltk import word_tokenize\n",
    "from nltk.corpus import stopwords"
   ]
  },
  {
   "cell_type": "code",
   "execution_count": 3,
   "metadata": {
    "collapsed": true
   },
   "outputs": [],
   "source": [
    "train = pd.read_csv(\"train.csv\")"
   ]
  },
  {
   "cell_type": "code",
   "execution_count": 4,
   "metadata": {
    "collapsed": true
   },
   "outputs": [],
   "source": [
    "sentences = train.loc[:,['comment_text']]\n",
    "toxic = train['toxic']\n",
    "severe_toxic = train['severe_toxic']\n",
    "obscene = train['obscene']\n",
    "threat = train['threat']\n",
    "insult = train['insult']\n",
    "identity_hate = train['identity_hate']\n",
    "indices = ['toxic','severe_toxic','obscene','threat','insult','identity_hate']"
   ]
  },
  {
   "cell_type": "code",
   "execution_count": 5,
   "metadata": {
    "collapsed": true
   },
   "outputs": [],
   "source": [
    "good = []\n",
    "for i in range(len(train)):\n",
    "    if train.loc[i,indices].sum() == 0:\n",
    "        good.append(1)\n",
    "    else:\n",
    "        good.append(0)"
   ]
  },
  {
   "cell_type": "code",
   "execution_count": 6,
   "metadata": {
    "collapsed": true
   },
   "outputs": [],
   "source": [
    "good = pd.Series(good)"
   ]
  },
  {
   "cell_type": "code",
   "execution_count": 7,
   "metadata": {
    "collapsed": true
   },
   "outputs": [],
   "source": [
    "def preprocessing(sentence_bundle):\n",
    "    for i in range(len(sentence_bundle)):\n",
    "        sentence_bundle.loc[i].loc['comment_text'] = sentence_bundle.loc[i]['comment_text'].lower()\n",
    "        sentence_bundle.loc[i].loc['comment_text'] = sentence_bundle.loc[i]['comment_text'].strip('\\n')\n",
    "        stop = stopwords.words('english') + list(string.punctuation)\n",
    "        nums = re.compile(\"[0-9]\")\n",
    "        sentence_bundle.loc[i].loc['comment_text'] = ''.join(re.split(nums,sentence_bundle.loc[i]['comment_text']))\n",
    "        sentence_bundle.loc[i].loc['comment_text'] = ' '.join([i for i in word_tokenize(sentence_bundle.loc[i]['comment_text']) if i not in stop])"
   ]
  },
  {
   "cell_type": "code",
   "execution_count": 8,
   "metadata": {
    "collapsed": true
   },
   "outputs": [],
   "source": [
    "regex = re.compile(\"[^a-zA-Z ]\")\n",
    "def remove_other(sentence_bundle):\n",
    "    for i in range(len(sentence_bundle)):\n",
    "        sentence_bundle.loc[i].loc['comment_text']=regex.sub('',sentence_bundle.loc[i].loc['comment_text'])"
   ]
  },
  {
   "cell_type": "code",
   "execution_count": 9,
   "metadata": {
    "collapsed": true
   },
   "outputs": [],
   "source": [
    "preprocessing(sentences)"
   ]
  },
  {
   "cell_type": "code",
   "execution_count": 10,
   "metadata": {
    "collapsed": true
   },
   "outputs": [],
   "source": [
    "remove_other(sentences)"
   ]
  },
  {
   "cell_type": "code",
   "execution_count": 11,
   "metadata": {
    "collapsed": true
   },
   "outputs": [],
   "source": [
    "toxic = toxic.as_matrix()\n",
    "severe_toxic = severe_toxic.as_matrix()\n",
    "obscene = obscene.as_matrix()\n",
    "insult = insult.as_matrix()\n",
    "identity_hate = identity_hate.as_matrix()\n",
    "threat = threat.as_matrix()\n",
    "good = good.as_matrix()"
   ]
  },
  {
   "cell_type": "code",
   "execution_count": 12,
   "metadata": {
    "collapsed": true
   },
   "outputs": [],
   "source": [
    "sentences = sentences.as_matrix()"
   ]
  },
  {
   "cell_type": "code",
   "execution_count": 17,
   "metadata": {
    "collapsed": true
   },
   "outputs": [],
   "source": [
    "toxic_pos = open(\"toxic.pos\",\"w\")\n",
    "toxic_neg = open(\"toxic.neg\",\"w\")\n",
    "severe_toxic_pos = open(\"severe_toxic.pos\",\"w\")\n",
    "severe_toxic_neg = open(\"severe_toxic.neg\",\"w\")\n",
    "obscene_pos = open(\"obscene.pos\",\"w\")\n",
    "obscene_neg = open(\"obscene.neg\",\"w\")\n",
    "threat_pos = open(\"threat.pos\",\"w\")\n",
    "threat_neg = open(\"threat.neg\",\"w\")\n",
    "insult_pos = open(\"insult.pos\",\"w\")\n",
    "insult_neg = open(\"insult.neg\",\"w\")\n",
    "id_hate_pos = open(\"id_hate.pos\",\"w\")\n",
    "id_hate_neg = open(\"id_hate.neg\",\"w\")"
   ]
  },
  {
   "cell_type": "code",
   "execution_count": 25,
   "metadata": {
    "collapsed": true
   },
   "outputs": [],
   "source": [
    "total_pos_count = [list(toxic).count(1),\\\n",
    "                   list(severe_toxic).count(1),\\\n",
    "                   list(obscene).count(1),\\\n",
    "                   list(insult).count(1),\\\n",
    "                   list(identity_hate).count(1),\\\n",
    "                   list(threat).count(1)]\n",
    "neg_count = [0 for i in range(6)]"
   ]
  },
  {
   "cell_type": "code",
   "execution_count": 26,
   "metadata": {
    "collapsed": true
   },
   "outputs": [],
   "source": [
    "for i in range(len(sentences)):\n",
    "    if(toxic[i] == 1):\n",
    "        toxic_pos.write(sentences[i][0])\n",
    "        toxic_pos.write('\\n')\n",
    "    else:\n",
    "        neg_count[0] += 1\n",
    "        if(neg_count[0] <= total_pos_count[0]):\n",
    "            toxic_neg.write(sentences[i][0])\n",
    "            toxic_neg.write('\\n')\n",
    "    if(severe_toxic[i] == 1):\n",
    "        severe_toxic_pos.write(sentences[i][0])\n",
    "        severe_toxic_pos.write('\\n')\n",
    "    else:\n",
    "        neg_count[1] += 1\n",
    "        if(neg_count[1] <= total_pos_count[1]):\n",
    "            severe_toxic_neg.write(sentences[i][0])\n",
    "            severe_toxic_neg.write('\\n')\n",
    "    if(obscene[i] == 1):\n",
    "        obscene_pos.write(sentences[i][0])\n",
    "        obscene_pos.write('\\n')\n",
    "    else:\n",
    "        neg_count[2] += 1\n",
    "        if(neg_count[2] <= total_pos_count[2]):\n",
    "            obscene_neg.write(sentences[i][0])\n",
    "            obscene_neg.write('\\n')\n",
    "    if(threat[i] == 1):\n",
    "        threat_pos.write(sentences[i][0])\n",
    "        threat_pos.write('\\n')\n",
    "    else:\n",
    "        neg_count[5] += 1\n",
    "        if(neg_count[5] <= total_pos_count[5]):\n",
    "            threat_neg.write(sentences[i][0])\n",
    "            threat_neg.write('\\n')\n",
    "    if(insult[i] == 1):\n",
    "        insult_pos.write(sentences[i][0])\n",
    "        insult_pos.write('\\n')\n",
    "    else:\n",
    "        neg_count[3] += 1\n",
    "        if(neg_count[3] <= total_pos_count[3]):\n",
    "            insult_neg.write(sentences[i][0])\n",
    "            insult_neg.write('\\n')\n",
    "    if(identity_hate[i] == 1):\n",
    "        id_hate_pos.write(sentences[i][0])\n",
    "        id_hate_pos.write('\\n')\n",
    "    else:\n",
    "        neg_count[4] += 1\n",
    "        if(neg_count[4] <= total_pos_count[4]):\n",
    "            id_hate_neg.write(sentences[i][0])\n",
    "            id_hate_neg.write('\\n')"
   ]
  }
 ],
 "metadata": {
  "kernelspec": {
   "display_name": "Python 3",
   "language": "python",
   "name": "python3"
  },
  "language_info": {
   "codemirror_mode": {
    "name": "ipython",
    "version": 3
   },
   "file_extension": ".py",
   "mimetype": "text/x-python",
   "name": "python",
   "nbconvert_exporter": "python",
   "pygments_lexer": "ipython3",
   "version": "3.6.3"
  }
 },
 "nbformat": 4,
 "nbformat_minor": 2
}
